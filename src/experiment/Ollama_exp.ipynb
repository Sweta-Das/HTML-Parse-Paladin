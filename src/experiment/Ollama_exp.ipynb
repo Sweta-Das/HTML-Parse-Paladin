{
 "cells": [
  {
   "cell_type": "markdown",
   "metadata": {},
   "source": [
    "# Testing LLM by directly sending HTML"
   ]
  },
  {
   "cell_type": "code",
   "execution_count": 17,
   "metadata": {},
   "outputs": [
    {
     "data": {
      "text/plain": [
       "'<div jscontroller=\"AtSb\" class=\"w7Dbne CR1S4b\" data-record-click-time=\"false\" id=\"tsuid_48\" jsdata=\"zt2wNd;_;A+m88g WDO8Ff;_;A+m88s\" jsaction=\"rcuQ6b:npT2md;e3EWke:kN9HDb\" data-hveid=\"CC4QAA\">\\n    <div jsname=\"jXK9ad\" class=\"uMdZh tIxNaf rllt__borderless\" jsaction=\"mouseover:UI3Kjd;mouseleave:Tx5Rb;focusin:UI3Kjd;focusout:Tx5Rb\">\\n      <div class=\"VkpGBb\">\\n        <div class=\"cXedhc\">\\n          <a class=\"vwVdIc wzN8Ac rllt__link a-no-hover-decoration\" jsname=\"kj0dLd\" data-cid=\"11265938073076301333\" jsaction=\"click:h5M12e;\" role=\"link\" tabindex=\"0\" data-ved=\"2ahUKEwjC7OW8romDAxXwFVkFHbmLAEoQ1YkKegQILhAB\">\\n            <div>\\n              <div class=\"rllt__details\">\\n                <div class=\"dbg0pd\" aria-level=\"3\" role=\"heading\"><span class=\"OSrXXb\">Houndstooth Coffee</span></div>\\n                <div><span><span class=\"Y0A0hc\"><span class=\"yi40Hd YrbPuc\" aria-hidden=\"true\">4.6</span><span class=\"z3HNkc fUNJzc\" aria-label=\"Rated 4.6 out of 5,\" role=\"img\"><span style=\"width:12px\"></span></span><span class=\"RDApEe YrbPuc\">(922)</span></span></span> · <span aria-label=\"Moderately expensive\" role=\"img\">$$</span> · Coffee shop</div>\\n                <div>401 Congress Ave. #100c</div>\\n                <div><span><span style=\"color:rgba(217,48,37,1.0)\">Closed</span> ⋅ Opens 6:30\\u202fAM</span></div>\\n                <div class=\"pJ3Ci\"><span>Cozy hangout for carefully sourced brews</span></div>\\n              </div>\\n            </div>\\n          </a>\\n          <a class=\"uQ4NLd b9tNq wzN8Ac rllt__link a-no-hover-decoration\" aria-hidden=\"true\" tabindex=\"-1\" jsname=\"kj0dLd\" data-cid=\"11265938073076301333\" jsaction=\"click:h5M12e;\" role=\"link\" data-ved=\"2ahUKEwjC7OW8romDAxXwFVkFHbmLAEoQ1YkKegQILhAP\">\\n            <g-img class=\"gTrj3e\"><img id=\"pimg_2\" src=\"https://lh5.googleusercontent.com/p/AF1QipNRZ1ehiInk8CTrHCD08GnhcnF7e4q-1H8Qs8mG=w114-h114-n-k-no\" class=\"YQ4gaf zr758c wA1Bge\" height=\"114\" width=\"114\" alt=\"\" data-csiid=\"2\" data-atf=\"1\"></g-img>\\n          </a>\\n        </div>\\n      </div>\\n    </div>\\n  </div>'"
      ]
     },
     "execution_count": 17,
     "metadata": {},
     "output_type": "execute_result"
    }
   ],
   "source": [
    "import os \n",
    "from dotenv import load_dotenv, find_dotenv\n",
    "\n",
    "load_dotenv(find_dotenv())\n",
    "\n",
    "dir = os.environ['filepath']\n",
    "filename = \"test.html\"\n",
    "filepath = os.path.join(dir, filename)\n",
    "\n",
    "with open(filepath, 'r', encoding='utf-8') as file:\n",
    "    html = file.read()\n",
    "\n",
    "html"
   ]
  },
  {
   "cell_type": "code",
   "execution_count": 18,
   "metadata": {},
   "outputs": [],
   "source": [
    "key = os.environ['HF_KEY']"
   ]
  },
  {
   "cell_type": "markdown",
   "metadata": {},
   "source": [
    "## Using Ollama Model"
   ]
  },
  {
   "cell_type": "code",
   "execution_count": 3,
   "metadata": {},
   "outputs": [
    {
     "data": {
      "text/plain": [
       "'<div jscontroller=\"AtSb\" class=\"w7Dbne CR1S4b\" data-record-click-time=\"false\" id=\"tsuid_48\" jsdata=\"zt2wNd;_;A+m88g WDO8Ff;_;A+m88s\" jsaction=\"rcuQ6b:npT2md;e3EWke:kN9HDb\" data-hveid=\"CC4QAA\">\\n    <div jsname=\"jXK9ad\" class=\"uMdZh tIxNaf rllt__borderless\" jsaction=\"mouseover:UI3Kjd;mouseleave:Tx5Rb;focusin:UI3Kjd;focusout:Tx5Rb\">\\n      <div class=\"VkpGBb\">\\n        <div class=\"cXedhc\">\\n          <a class=\"vwVdIc wzN8Ac rllt__link a-no-hover-decoration\" jsname=\"kj0dLd\" data-cid=\"11265938073076301333\" jsaction=\"click:h5M12e;\" role=\"link\" tabindex=\"0\" data-ved=\"2ahUKEwjC7OW8romDAxXwFVkFHbmLAEoQ1YkKegQILhAB\">\\n            <div>\\n              <div class=\"rllt__details\">\\n                <div class=\"dbg0pd\" aria-level=\"3\" role=\"heading\"><span class=\"OSrXXb\">Houndstooth Coffee</span></div>\\n                <div><span><span class=\"Y0A0hc\"><span class=\"yi40Hd YrbPuc\" aria-hidden=\"true\">4.6</span><span class=\"z3HNkc fUNJzc\" aria-label=\"Rated 4.6 out of 5,\" role=\"img\"><span style=\"width:12px\"></span></span><span class=\"RDApEe YrbPuc\">(922)</span></span></span> · <span aria-label=\"Moderately expensive\" role=\"img\">$$</span> · Coffee shop</div>\\n                <div>401 Congress Ave. #100c</div>\\n                <div><span><span style=\"color:rgba(217,48,37,1.0)\">Closed</span> ⋅ Opens 6:30\\u202fAM</span></div>\\n                <div class=\"pJ3Ci\"><span>Cozy hangout for carefully sourced brews</span></div>\\n              </div>\\n            </div>\\n          </a>\\n          <a class=\"uQ4NLd b9tNq wzN8Ac rllt__link a-no-hover-decoration\" aria-hidden=\"true\" tabindex=\"-1\" jsname=\"kj0dLd\" data-cid=\"11265938073076301333\" jsaction=\"click:h5M12e;\" role=\"link\" data-ved=\"2ahUKEwjC7OW8romDAxXwFVkFHbmLAEoQ1YkKegQILhAP\">\\n            <g-img class=\"gTrj3e\"><img id=\"pimg_2\" src=\"https://lh5.googleusercontent.com/p/AF1QipNRZ1ehiInk8CTrHCD08GnhcnF7e4q-1H8Qs8mG=w114-h114-n-k-no\" class=\"YQ4gaf zr758c wA1Bge\" height=\"114\" width=\"114\" alt=\"\" data-csiid=\"2\" data-atf=\"1\"></g-img>\\n          </a>\\n        </div>\\n      </div>\\n    </div>\\n  </div>'"
      ]
     },
     "execution_count": 3,
     "metadata": {},
     "output_type": "execute_result"
    }
   ],
   "source": [
    "import json \n",
    "\n",
    "filename = \"test.html\"\n",
    "with open(filename, 'r', encoding='utf-8') as file:\n",
    "    html_ = file.read()\n",
    "\n",
    "html_"
   ]
  },
  {
   "cell_type": "code",
   "execution_count": 2,
   "metadata": {},
   "outputs": [],
   "source": [
    "from langchain_core.messages import HumanMessage, SystemMessage\n",
    "from langchain_core.prompts import ChatPromptTemplate\n",
    "\n",
    "messages = [\n",
    "    SystemMessage(\n",
    "        content=\"\"\"You are an expert in HTML parsing for E-commerce HTML blocks. Extract information about product, its prices and description from HTML in JSON Format along with the related CSS selector or XPaths.\n",
    "                Remember to return response in JSON format as:\n",
    "                product: Name of the product\n",
    "                price: Price of the product\n",
    "                desc: Information about the product\n",
    "                img: Images associated with the product\n",
    "                tag: CSS selectors or Xpaths\"\"\"\n",
    "    ),\n",
    "    HumanMessage(\n",
    "        content=\"{html_}\"\n",
    "    )\n",
    "]\n",
    "prompt = ChatPromptTemplate.from_messages(messages)\n",
    "html = json.dumps(html_, indent=2)"
   ]
  },
  {
   "cell_type": "code",
   "execution_count": 3,
   "metadata": {},
   "outputs": [
    {
     "data": {
      "text/plain": [
       "'\"<div jscontroller=\\\\\"AtSb\\\\\" class=\\\\\"w7Dbne CR1S4b\\\\\" data-record-click-time=\\\\\"false\\\\\" id=\\\\\"tsuid_48\\\\\" jsdata=\\\\\"zt2wNd;_;A+m88g WDO8Ff;_;A+m88s\\\\\" jsaction=\\\\\"rcuQ6b:npT2md;e3EWke:kN9HDb\\\\\" data-hveid=\\\\\"CC4QAA\\\\\">\\\\n    <div jsname=\\\\\"jXK9ad\\\\\" class=\\\\\"uMdZh tIxNaf rllt__borderless\\\\\" jsaction=\\\\\"mouseover:UI3Kjd;mouseleave:Tx5Rb;focusin:UI3Kjd;focusout:Tx5Rb\\\\\">\\\\n      <div class=\\\\\"VkpGBb\\\\\">\\\\n        <div class=\\\\\"cXedhc\\\\\">\\\\n          <a class=\\\\\"vwVdIc wzN8Ac rllt__link a-no-hover-decoration\\\\\" jsname=\\\\\"kj0dLd\\\\\" data-cid=\\\\\"11265938073076301333\\\\\" jsaction=\\\\\"click:h5M12e;\\\\\" role=\\\\\"link\\\\\" tabindex=\\\\\"0\\\\\" data-ved=\\\\\"2ahUKEwjC7OW8romDAxXwFVkFHbmLAEoQ1YkKegQILhAB\\\\\">\\\\n            <div>\\\\n              <div class=\\\\\"rllt__details\\\\\">\\\\n                <div class=\\\\\"dbg0pd\\\\\" aria-level=\\\\\"3\\\\\" role=\\\\\"heading\\\\\"><span class=\\\\\"OSrXXb\\\\\">Houndstooth Coffee</span></div>\\\\n                <div><span><span class=\\\\\"Y0A0hc\\\\\"><span class=\\\\\"yi40Hd YrbPuc\\\\\" aria-hidden=\\\\\"true\\\\\">4.6</span><span class=\\\\\"z3HNkc fUNJzc\\\\\" aria-label=\\\\\"Rated 4.6 out of 5,\\\\\" role=\\\\\"img\\\\\"><span style=\\\\\"width:12px\\\\\"></span></span><span class=\\\\\"RDApEe YrbPuc\\\\\">(922)</span></span></span> \\\\u00b7 <span aria-label=\\\\\"Moderately expensive\\\\\" role=\\\\\"img\\\\\">$$</span> \\\\u00b7 Coffee shop</div>\\\\n                <div>401 Congress Ave. #100c</div>\\\\n                <div><span><span style=\\\\\"color:rgba(217,48,37,1.0)\\\\\">Closed</span> \\\\u22c5 Opens 6:30\\\\u202fAM</span></div>\\\\n                <div class=\\\\\"pJ3Ci\\\\\"><span>Cozy hangout for carefully sourced brews</span></div>\\\\n              </div>\\\\n            </div>\\\\n          </a>\\\\n          <a class=\\\\\"uQ4NLd b9tNq wzN8Ac rllt__link a-no-hover-decoration\\\\\" aria-hidden=\\\\\"true\\\\\" tabindex=\\\\\"-1\\\\\" jsname=\\\\\"kj0dLd\\\\\" data-cid=\\\\\"11265938073076301333\\\\\" jsaction=\\\\\"click:h5M12e;\\\\\" role=\\\\\"link\\\\\" data-ved=\\\\\"2ahUKEwjC7OW8romDAxXwFVkFHbmLAEoQ1YkKegQILhAP\\\\\">\\\\n            <g-img class=\\\\\"gTrj3e\\\\\"><img id=\\\\\"pimg_2\\\\\" src=\\\\\"https://lh5.googleusercontent.com/p/AF1QipNRZ1ehiInk8CTrHCD08GnhcnF7e4q-1H8Qs8mG=w114-h114-n-k-no\\\\\" class=\\\\\"YQ4gaf zr758c wA1Bge\\\\\" height=\\\\\"114\\\\\" width=\\\\\"114\\\\\" alt=\\\\\"\\\\\" data-csiid=\\\\\"2\\\\\" data-atf=\\\\\"1\\\\\"></g-img>\\\\n          </a>\\\\n        </div>\\\\n      </div>\\\\n    </div>\\\\n  </div>\"'"
      ]
     },
     "execution_count": 3,
     "metadata": {},
     "output_type": "execute_result"
    }
   ],
   "source": [
    "html"
   ]
  },
  {
   "cell_type": "code",
   "execution_count": 4,
   "metadata": {},
   "outputs": [
    {
     "data": {
      "text/plain": [
       "'{\\n\"product\": \"Smartwatch\",\\n\"price\": \"$199.99\",\\n\"desc\": \"<p>Stay connected and on top of your game with this sleek smartwatch. Track your fitness goals, receive notifications, and control your music all from one convenient device.</p>\",\\n\"img\": [\"https://example.com/smartwatch1.jpg\", \"https://example.com/smartwatch2.jpg\"],\\n\"tag\": [\"div.product-info\", \"span.price\", \"p.description\"]\\n}\\n\\n\\n'"
      ]
     },
     "execution_count": 4,
     "metadata": {},
     "output_type": "execute_result"
    }
   ],
   "source": [
    "from langchain_community.chat_models import ChatOllama\n",
    "from langchain_core.output_parsers import StrOutputParser\n",
    "\n",
    "llm = ChatOllama(model=\"llama2\", format=\"json\", temperature=0)\n",
    "chain = prompt | llm | StrOutputParser()\n",
    "\n",
    "chain.invoke({\"html\": html})"
   ]
  },
  {
   "cell_type": "markdown",
   "metadata": {},
   "source": [
    "## Using Ollama Functions"
   ]
  },
  {
   "cell_type": "code",
   "execution_count": 11,
   "metadata": {},
   "outputs": [
    {
     "data": {
      "text/plain": [
       "RunnableBinding(bound=OllamaFunctions(format='json'), kwargs={'functions': [{'name': 'get_parsed_html_in_json', 'description': 'Get the parsed HTML in JSON format', 'parameters': [{'product': 'Name of the product', 'price': 'Price of the product', 'desc': 'Information about the product', 'img': 'Images associated with the product', 'tag': 'CSS selectors or Xpaths'}]}], 'function_call': {'name': 'get_parsed_html_in_json'}})"
      ]
     },
     "execution_count": 11,
     "metadata": {},
     "output_type": "execute_result"
    }
   ],
   "source": [
    "from langchain_experimental.llms.ollama_functions import OllamaFunctions\n",
    "\n",
    "model = OllamaFunctions(model=\"llama2\",\n",
    "                        format=\"json\")\n",
    "model = model.bind_tools(\n",
    "    tools=[{\n",
    "        \"name\": \"get_parsed_html_in_json\",\n",
    "        \"description\": \"Get the parsed HTML in JSON format\",\n",
    "        \"parameters\":[{\n",
    "            \"product\": \"Name of the product\",\n",
    "            \"price\": \"Price of the product\",\n",
    "            \"desc\": \"Information about the product\",\n",
    "            \"img\": \"Images associated with the product\",\n",
    "            \"tag\": \"CSS selectors or Xpaths\"}]\n",
    "    }],\n",
    "    function_call={\"name\": \"get_parsed_html_in_json\"},\n",
    ")\n",
    "model"
   ]
  },
  {
   "cell_type": "code",
   "execution_count": null,
   "metadata": {},
   "outputs": [],
   "source": [
    "model.invoke(html)"
   ]
  },
  {
   "cell_type": "code",
   "execution_count": 4,
   "metadata": {},
   "outputs": [
    {
     "data": {
      "text/plain": [
       "Output(product='Houndstooth Coffee', price='$$', desc='Cozy hangout for carefully sourced brews', img='https://lh5.googleusercontent.com/p/AF1QipNRZ1ehiInk8CTrHCD08GnhcnF7e4q-1H8Qs8mG=w114-h114-n-k-no', tag='.VkpGBb .cXedhc a.wzN8Ac.rllt__link.a-no-hover-decoration')"
      ]
     },
     "execution_count": 4,
     "metadata": {},
     "output_type": "execute_result"
    }
   ],
   "source": [
    "from langchain_experimental.llms.ollama_functions import OllamaFunctions\n",
    "from langchain_core.prompts import PromptTemplate\n",
    "from langchain_core.pydantic_v1 import BaseModel, Field\n",
    "\n",
    "class Output(BaseModel):\n",
    "    product: str = Field(description=\"Name of the product\", required=True)\n",
    "    price: str = Field(description=\"Price of the product\",)\n",
    "    desc: str = Field(description=\"Information about the product\")\n",
    "    img: str = Field(description=\"Images associated with the product\")\n",
    "    tag: str = Field(\"CSS selectors of Xpaths\", required=True)\n",
    "\n",
    "prompt = PromptTemplate.from_template(\n",
    "    \"\"\"You are an expert in HTML parsing for E-commerce HTML blocks. Extract information about product, its prices and description from HTML in JSON Format along with the related CSS selector or XPaths.\n",
    "Remember to return response in JSON format\n",
    "\n",
    "Human: {html}\n",
    "AI: \"\"\"\n",
    ")\n",
    "\n",
    "llm = OllamaFunctions(\n",
    "    model=\"llama3\",\n",
    "    format=\"json\",\n",
    "    temperature=0\n",
    ")\n",
    "\n",
    "struct_llm = llm.with_structured_output(Output)\n",
    "chain = prompt | struct_llm\n",
    "html = json.dumps(html_, indent=2)\n",
    "chain.invoke(html)"
   ]
  }
 ],
 "metadata": {
  "kernelspec": {
   "display_name": "grpsrVenv",
   "language": "python",
   "name": "python3"
  },
  "language_info": {
   "codemirror_mode": {
    "name": "ipython",
    "version": 3
   },
   "file_extension": ".py",
   "mimetype": "text/x-python",
   "name": "python",
   "nbconvert_exporter": "python",
   "pygments_lexer": "ipython3",
   "version": "3.12.3"
  }
 },
 "nbformat": 4,
 "nbformat_minor": 2
}
