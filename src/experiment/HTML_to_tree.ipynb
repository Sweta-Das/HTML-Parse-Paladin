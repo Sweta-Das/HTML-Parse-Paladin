{
 "cells": [
  {
   "cell_type": "code",
   "execution_count": 3,
   "metadata": {},
   "outputs": [],
   "source": [
    "from bs4 import BeautifulSoup\n",
    "from dotenv import load_dotenv, find_dotenv\n",
    "import os\n",
    "\n",
    "load_dotenv(find_dotenv())\n",
    "\n",
    "path = os.environ[\"filepath\"]\n",
    "filename = \"test2.html\"\n",
    "\n",
    "fpath = os.path.join(path, filename)\n",
    "\n",
    "with open(fpath, 'r', encoding='utf-8') as file:\n",
    "    html = file.read()\n",
    "\n",
    "soup = BeautifulSoup(html, 'html.parser')\n",
    "frmt_html = soup.prettify()\n",
    "\n",
    "with open(fpath, 'w', encoding='utf-8') as file:\n",
    "    file.write(frmt_html)"
   ]
  },
  {
   "cell_type": "code",
   "execution_count": 1,
   "metadata": {},
   "outputs": [],
   "source": [
    "# Creating HTML file from URL\n",
    "from bs4 import BeautifulSoup\n",
    "import requests\n",
    "\n",
    "def save_website_html(url, filename):\n",
    "    try:\n",
    "        response = requests.get(url)\n",
    "        if response.status_code == 200:\n",
    "            html_content = response.text\n",
    "\n",
    "            soup = BeautifulSoup(html_content, 'html.parser')\n",
    "            frmt_html = soup.prettify()\n",
    "\n",
    "            with open(filename, 'w', encoding='utf-8') as file:\n",
    "                file.write(frmt_html)\n",
    "        else:\n",
    "            print(f\"Failed to retrieve HTML content! Status Code: {response.status_code}\")\n",
    "\n",
    "    except requests.exceptions.RequestException as e:\n",
    "        print(f\"An error occurred while fetching the URL: {e}\")\n",
    "\n",
    "url = \"https://www.daraz.com.np/smart-watches/\"\n",
    "filename=\"daraz_watches.html\"\n",
    "save_website_html(url, filename)"
   ]
  },
  {
   "cell_type": "code",
   "execution_count": 2,
   "metadata": {},
   "outputs": [],
   "source": [
    "# Creating tree structure from html content\n",
    "def element_to_tree(element):\n",
    "    tree = {\n",
    "        'tagName': element.name,\n",
    "        'attributes': element.attrs,\n",
    "        'content': element.text.strip(),\n",
    "        'children': []\n",
    "    }\n",
    "    for child in element.children:\n",
    "        if child.name:\n",
    "            tree['children'].append(element_to_tree(child))\n",
    "\n",
    "    return tree\n",
    "\n",
    "def html_to_tree(filename):\n",
    "    with open(filename, 'r', encoding='utf-8') as file:\n",
    "        html_content = file.read()\n",
    "\n",
    "    soup = BeautifulSoup(html_content, 'html.parser')\n",
    "    root_element = soup.body\n",
    "    return element_to_tree(root_element)\n",
    "\n",
    "tree = html_to_tree(\"daraz_watches.html\")"
   ]
  },
  {
   "cell_type": "code",
   "execution_count": 3,
   "metadata": {},
   "outputs": [
    {
     "data": {
      "text/plain": [
       "dict_keys(['tagName', 'attributes', 'content', 'children'])"
      ]
     },
     "execution_count": 3,
     "metadata": {},
     "output_type": "execute_result"
    }
   ],
   "source": [
    "tree.keys()"
   ]
  },
  {
   "cell_type": "code",
   "execution_count": 4,
   "metadata": {},
   "outputs": [
    {
     "data": {
      "text/plain": [
       "'tagName: body'"
      ]
     },
     "execution_count": 4,
     "metadata": {},
     "output_type": "execute_result"
    }
   ],
   "source": [
    "f\"tagName: {tree['tagName']}\""
   ]
  },
  {
   "cell_type": "code",
   "execution_count": 5,
   "metadata": {},
   "outputs": [
    {
     "data": {
      "text/plain": [
       "\"attributes: {'data-spm': 'searchlistcategory'}\""
      ]
     },
     "execution_count": 5,
     "metadata": {},
     "output_type": "execute_result"
    }
   ],
   "source": [
    "f\"attributes: {tree['attributes']}\""
   ]
  },
  {
   "cell_type": "code",
   "execution_count": 6,
   "metadata": {},
   "outputs": [
    {
     "data": {
      "text/plain": [
       "\"content: Become a Seller\\n             \\n\\n\\n\\n              Payments & Recharge\\n             \\n\\n\\n\\n              Help & Support\\n             \\n\\n\\n\\n\\n\\n\\n\\n                  Help Center\\n                 \\n\\n\\n\\n\\n\\n                  Chat with Us\\n                 \\n\\n\\n\\n\\n\\n                  Order\\n                 \\n\\n\\n\\n\\n\\n                  Shipping & Delivery\\n                 \\n\\n\\n\\n\\n\\n                  Payment\\n                 \\n\\n\\n\\n\\n\\n                  Returns & Refunds\\n                 \\n\\n\\n\\n\\n\\n\\n\\n              Daraz Logistics Partner\\n             \\n\\n\\n\\n\\n              Save More on App\\n             \\n\\n\\n\\n\\n\\n\\n\\n\\n                  Download the App\\n                 \\n\\n\\n\\n\\n\\n\\n\\n\\n\\n\\n\\n\\n\\n\\n\\n\\n\\n\\n\\n\\n\\n\\n\\n\\n\\n\\n\\n\\n\\n\\n\\n\\n                   Success! Please check your phone for the download link\\n                  \\n\\n\\n\\n\\n\\n\\n\\n\\n\\n\\n\\n\\n\\n\\n\\n\\n\\n\\n\\n\\n\\n\\n\\n\\n\\n\\n\\n                 Login\\n                \\n\\n\\n\\n               |\\n              \\n\\n\\n                Sign Up\\n               \\n\\n\\n\\n\\n\\n\\n\\n\\n\\n\\n\\n\\n                ⌄\\n               \\n\\n\\n\\n\\n\\n\\n\\n\\n                   Manage My Account\\n                  \\n\\n\\n\\n\\n\\n                   My Orders\\n                  \\n\\n\\n\\n\\n\\n                   My Wishlist & Followed Stores\\n                  \\n\\n\\n\\n\\n\\n                   My Reviews\\n                  \\n\\n\\n\\n\\n\\n                   My Returns & Cancellations\\n                  \\n\\n\\n\\n\\n\\n                   Logout\\n                  \\n\\n\\n\\n\\n\\n\\n\\n\\n\\n\\n                 en\\n                \\n\\n                 ⌄\\n                \\n\\n\\n\\n\\n\\n                 Select Language\\n                \\n\\n\\n\\n                 EN / English\\n                \\n\\n                 NE / Nepali\\n                \\n\\n\\n\\n\\n\\n\\n\\n\\n\\n\\n\\n\\n\\n\\n\\n\\n\\n\\n               3\\n              \\n\\n\\n\\n\\n\\n\\n\\n\\n\\n\\n\\n\\n\\n\\n\\n\\n\\n                Categories\\n               \\n\\n\\n\\n\\n\\n\\n\\n\\n\\n\\n\\n\\n                     Women's Fashion\\n                    \\n\\n\\n\\n\\n\\n\\n\\n\\n\\n                     Health & Beauty\\n                    \\n\\n\\n\\n\\n\\n\\n\\n\\n\\n                     Men's Fashion\\n                    \\n\\n\\n\\n\\n\\n\\n\\n\\n\\n                     Watches & Accessories\\n                    \\n\\n\\n\\n\\n\\n\\n\\n\\n\\n                     Electronic Devices\\n                    \\n\\n\\n\\n\\n\\n\\n\\n\\n\\n                     TV & Home Appliances\\n                    \\n\\n\\n\\n\\n\\n\\n\\n\\n\\n                     Electronic Accessories\\n                    \\n\\n\\n\\n\\n\\n\\n\\n\\n\\n                     Groceries & Pets\\n                    \\n\\n\\n\\n\\n\\n\\n\\n\\n\\n                     Babies & Toys\\n                    \\n\\n\\n\\n\\n\\n\\n\\n\\n\\n                     Home & Lifestyle\\n                    \\n\\n\\n\\n\\n\\n\\n\\n\\n\\n                     Sports & Outdoor\\n                    \\n\\n\\n\\n\\n\\n\\n\\n\\n\\n                     Motors, Tools & DIY\\n                    \\n\\n\\n\\n\\n\\n\\n                      Clothing\\n                     \\n\\n\\n\\n\\n\\n\\n                      Traditional Clothing\\n                     \\n\\n\\n\\n\\n\\n\\n                      Women's Bags\\n                     \\n\\n\\n\\n\\n\\n\\n                      Shoes\\n                     \\n\\n\\n\\n\\n\\n\\n                      Accessories\\n                     \\n\\n\\n\\n\\n\\n\\n                      Lingerie, Sleep & Lounge\\n                     \\n\\n\\n\\n\\n\\n\\n                      Girl's Fashion\\n                     \\n\\n\\n\\n\\n\\n\\n\\n\\n                      Bath & Body\\n                     \\n\\n\\n\\n\\n\\n\\n                      Beauty Tools\\n                     \\n\\n\\n\\n\\n\\n\\n                      Fragrances\\n                     \\n\\n\\n\\n\\n\\n\\n                      Hair Care\\n                     \\n\\n\\n\\n\\n\\n\\n                      Makeup\\n                     \\n\\n\\n\\n\\n\\n\\n                      Men's Care\\n                     \\n\\n\\n\\n\\n\\n\\n                      Personal Care\\n                     \\n\\n\\n\\n\\n\\n\\n                      Skin Care\\n                     \\n\\n\\n\\n\\n\\n\\n                      Food Supplements\\n                     \\n\\n\\n\\n\\n\\n\\n                      Medical Supplies\\n                     \\n\\n\\n\\n\\n\\n\\n\\n\\n                      Clothing\\n                     \\n\\n\\n\\n\\n\\n\\n                      Men's Bags\\n                     \\n\\n\\n\\n\\n\\n\\n                      Shoes\\n                     \\n\\n\\n\\n\\n\\n\\n                      Accessories\\n                     \\n\\n\\n\\n\\n\\n\\n                      Boy's Fashion\\n                     \\n\\n\\n\\n\\n\\n\\n                      Men's Underwear\\n                     \\n\\n\\n\\n\\n\\n\\n\\n\\n                      Men's Watches\\n                     \\n\\n\\n\\n\\n\\n\\n                      Women's Watches\\n                     \\n\\n\\n\\n\\n\\n\\n                      Kid's Watches\\n                     \\n\\n\\n\\n\\n\\n                      Sunglasses\\n                     \\n\\n\\n\\n\\n\\n\\n                      Eyeglasses\\n                     \\n\\n\\n\\n\\n\\n\\n                      Women Fashion Jewellery\\n                     \\n\\n\\n\\n\\n\\n\\n                      Men Fashion Jewellery\\n                     \\n\\n\\n\\n\\n\\n\\n\\n\\n                      Smartphones\\n                     \\n\\n\\n\\n\\n\\n\\n                      Feature Phones\\n                     \\n\\n\\n\\n\\n\\n                      Tablets\\n                     \\n\\n\\n\\n\\n\\n\\n                      Laptops\\n                     \\n\\n\\n\\n\\n\\n\\n                      Desktops\\n                     \\n\\n\\n\\n\\n\\n\\n                      Monitors\\n                     \\n\\n\\n\\n\\n\\n                      Gaming Consoles\\n                     \\n\\n\\n\\n\\n\\n                      Cameras\\n                     \\n\\n\\n\\n\\n\\n\\n                      Printers\\n                     \\n\\n\\n\\n\\n\\n\\n                      Daraz Like New\\n                     \\n\\n\\n\\n\\n\\n\\n\\n\\n                      Televisions\\n                     \\n\\n\\n\\n\\n\\n\\n                      TV Accessories\\n                     \\n\\n\\n\\n\\n\\n\\n                      Audio & Video Devices\\n                     \\n\\n\\n\\n\\n\\n\\n                      Large Appliances\\n                     \\n\\n\\n\\n\\n\\n\\n                      Small Kitchen Appliances\\n                     \\n\\n\\n\\n\\n\\n\\n                      Cooling & Heating\\n                     \\n\\n\\n\\n\\n\\n\\n                      Vacuums & Floor Care\\n                     \\n\\n\\n\\n\\n\\n\\n                      Iron & Garment Care\\n                     \\n\\n\\n\\n\\n\\n\\n\\n\\n                      Mobile Accessories\\n                     \\n\\n\\n\\n\\n\\n\\n                      Audio\\n                     \\n\\n\\n\\n\\n\\n\\n                      Wearable\\n                     \\n\\n\\n\\n\\n\\n\\n                      Console Accessories\\n                     \\n\\n\\n\\n\\n\\n\\n                      Camera Accessories\\n                     \\n\\n\\n\\n\\n\\n\\n                      Computer Accessories\\n                     \\n\\n\\n\\n\\n\\n\\n                      Storage\\n                     \\n\\n\\n\\n\\n\\n\\n                      Computer Components\\n                     \\n\\n\\n\\n\\n\\n\\n                      Network Components\\n                     \\n\\n\\n\\n\\n\\n\\n                      Printers\\n                     \\n\\n\\n\\n\\n\\n\\n\\n\\n                      Groceries\\n                     \\n\\n\\n\\n\\n\\n                      Beverages\\n                     \\n\\n\\n\\n\\n\\n\\n                      Breakfast, Choco & Snacks\\n                     \\n\\n\\n\\n\\n\\n\\n                      Food Staples\\n                     \\n\\n\\n\\n\\n\\n\\n                      Cooking Ingredients\\n                     \\n\\n\\n\\n\\n\\n\\n                      Laundry & Household\\n                     \\n\\n\\n\\n\\n\\n\\n                      Wines, Beers & Spirits\\n                     \\n\\n\\n\\n\\n\\n\\n                      Pet Supplies\\n                     \\n\\n\\n\\n\\n\\n\\n\\n\\n                      Disposable Diapers\\n                     \\n\\n\\n\\n\\n\\n                      Baby Gear\\n                     \\n\\n\\n\\n\\n\\n\\n                      Baby Personal Care\\n                     \\n\\n\\n\\n\\n\\n\\n                      Clothing & Accessories\\n                     \\n\\n\\n\\n\\n\\n\\n                      Diapering & Potty\\n                     \\n\\n\\n\\n\\n\\n\\n                      Feeding\\n                     \\n\\n\\n\\n\\n\\n\\n                      Nursery\\n                     \\n\\n\\n\\n\\n\\n\\n                      Baby & Toddler Toys\\n                     \\n\\n\\n\\n\\n\\n\\n                      Toys & Games\\n                     \\n\\n\\n\\n\\n\\n\\n                      Remote Control & Vehicles\\n                     \\n\\n\\n\\n\\n\\n\\n                      Sports & Outdoor Play\\n                     \\n\\n\\n\\n\\n\\n\\n                      Pacifiers & Accessories\\n                     \\n\\n\\n\\n\\n\\n\\n\\n                      Bath\\n                     \\n\\n\\n\\n\\n\\n\\n                      Bedding\\n                     \\n\\n\\n\\n\\n\\n\\n                      Decor\\n                     \\n\\n\\n\\n\\n\\n\\n                      Furniture\\n                     \\n\\n\\n\\n\\n\\n\\n                      Kitchen & Dining\\n                     \\n\\n\\n\\n\\n\\n\\n                      Lighting\\n                     \\n\\n\\n\\n\\n\\n\\n                      Laundry & Cleaning\\n                     \\n\\n\\n\\n\\n\\n\\n                      Tools, DIY & Outdoor\\n                     \\n\\n\\n\\n\\n\\n\\n                      Stationery & Craft\\n                     \\n\\n\\n\\n\\n\\n\\n                      Media, Music & Books\\n                     \\n\\n\\n\\n\\n\\n\\n                      Musical Instruments\\n                     \\n\\n\\n\\n\\n\\n\\n                      Digital Goods\\n                     \\n\\n\\n\\n\\n\\n\\n\\n\\n                      Men Shoes & Clothing\\n                     \\n\\n\\n\\n\\n\\n\\n                      Women Shoes & Clothing\\n                     \\n\\n\\n\\n\\n\\n\\n                      Outdoor Recreation\\n                     \\n\\n\\n\\n\\n\\n\\n                      Exercise & Fitness\\n                     \\n\\n\\n\\n\\n\\n\\n                      Water Sports\\n                     \\n\\n\\n\\n\\n\\n\\n                      Racket Sports\\n                     \\n\\n\\n\\n\\n\\n\\n                      Team Sports\\n                     \\n\\n\\n\\n\\n\\n\\n                      Water Bottles\\n                     \\n\\n\\n\\n\\n\\n                      Travel & Luggage\\n                     \\n\\n\\n\\n\\n\\n\\n                      Sports Nutrition\\n                     \\n\\n\\n\\n\\n\\n\\n\\n                      Automotive\\n                     \\n\\n\\n\\n\\n\\n\\n                      Motorcycles\\n                     \\n\\n\\n\\n\\n\\n\\n                      Auto Care\\n                     \\n\\n\\n\\n\\n\\n\\n                      Auto Electronics\\n                     \\n\\n\\n\\n\\n\\n\\n                      Moto Parts & Accessories\\n                     \\n\\n\\n\\n\\n\\n\\n                      Motorcycle Riding Gear\\n                     \\n\\n\\n\\n\\n\\n\\n                      Helmets\\n                     \\n\\n\\n\\n\\n\\n                      Gloves\\n                     \\n\\n\\n\\n\\n\\n                      Interior Accessories\\n                     \\n\\n\\n\\n\\n\\n                      Auto Oils & Fluids\\n                     \\n\\n\\n\\n\\n\\n                      Auto Tires & Wheels\\n                     \\n\\n\\n\\n\\n\\n                      Lubricants\\n                     \\n\\n\\n\\n\\n\\n\\n\\n\\n\\n\\n\\n                \\ue76c\\n               \\n\\n                Proudly Nepali\\n               \\n\\n\\n\\n                \\ue76c\\n               \\n\\n                Free Delivery\\n               \\n\\n\\n\\n                \\ue7f9\\n               \\n\\n                Fashion\\n               \\n\\n\\n\\n                \\ue7f9\\n               \\n\\n                Beauty\\n               \\n\\n\\n\\n                \\ue768\\n               \\n\\n                Home & Decor\\n               \\n\\n\\n\\n\\n\\n\\n\\n\\n\\n\\n\\n\\n\\n\\n\\n\\n\\n\\n\\n\\n          Home\\n         \\n\\n\\n\\n\\n\\n\\n\\n\\n\\n          TV, Audio / Video, Gaming & Wearables\\n         \\n\\n\\n\\n\\n\\n\\n\\n\\n\\n          Wearable Technology\\n         \\n\\n\\n\\n\\n\\n\\n\\n\\n         Smartwatches\\n        \\n\\n\\n\\n\\n\\n\\n\\n\\n\\n\\n\\n\\n\\n\\n\\n\\n\\n\\n\\n\\n\\n\\n\\n\\n           Customer Care\\n          \\n\\n\\n\\n             Help Center\\n            \\n\\n\\n\\n             How to Buy\\n            \\n\\n\\n\\n             Returns & Refunds\\n            \\n\\n\\n\\n             Contact Us\\n            \\n\\n\\n\\n           Earn with Daraz\\n          \\n\\n\\n\\n             Daraz University\\n            \\n\\n\\n\\n             Sell on Daraz\\n            \\n\\n\\n\\n             Code of Conduct\\n            \\n\\n\\n\\n\\n\\n           Daraz\\n          \\n\\n\\n\\n             About Daraz\\n            \\n\\n\\n\\n             Careers\\n            \\n\\n\\n\\n             Daraz Blog\\n            \\n\\n\\n\\n             Terms & Conditions\\n            \\n\\n\\n\\n             Privacy Policy\\n            \\n\\n\\n\\n             Digital Payments\\n            \\n\\n\\n\\n             Daraz Customer University\\n            \\n\\n\\n\\n             Daraz Affiliate Program\\n            \\n\\n\\n\\n             Review & Win\\n            \\n\\n\\n\\n             Meet the winners\\n            \\n\\n\\n\\n\\n\\n           Daraz International\\n          \\n\\n\\n\\n\\n\\n\\n\\n             Pakistan\\n            \\n\\n\\n\\n\\n\\n\\n\\n             Bangladesh\\n            \\n\\n\\n\\n\\n\\n\\n\\n             Sri Lanka\\n            \\n\\n\\n\\n\\n\\n\\n\\n             Myanmar\\n            \\n\\n\\n\\n\\n\\n\\n\\n             Nepal\\n            \\n\\n\\n\\n           Payment Methods\\n          \\n\\n\\n\\n\\n\\n\\n\\n\\n\\n\\n\\n\\n\\n\\n\\n\\n\\n\\n\\n\\n\\n\\n\\n\\n\\n             Verified by\\n            \\n\\n\\n\\n\\n\\n\\n\\n\\n\\n           Exclusive Deals and Offers!\\n          \\n\\n\\n\\n\\n\\n\\n\\n\\n\\n\\n\\n\\n\\n\\n\\n\\n\\n\\n\\n\\n\\n\\n\\n\\n\\n\\n\\n\\n             Download App\\n            \\n\\n\\n\\n\\n\\n           Follow Us\""
      ]
     },
     "execution_count": 6,
     "metadata": {},
     "output_type": "execute_result"
    }
   ],
   "source": [
    "f\"content: {tree['content']}\""
   ]
  },
  {
   "cell_type": "code",
   "execution_count": 1,
   "metadata": {},
   "outputs": [],
   "source": [
    "# f\"children: {tree['children']}\""
   ]
  },
  {
   "cell_type": "code",
   "execution_count": 8,
   "metadata": {},
   "outputs": [
    {
     "data": {
      "text/plain": [
       "21"
      ]
     },
     "execution_count": 8,
     "metadata": {},
     "output_type": "execute_result"
    }
   ],
   "source": [
    "len(tree[\"children\"])"
   ]
  },
  {
   "cell_type": "code",
   "execution_count": 9,
   "metadata": {},
   "outputs": [
    {
     "data": {
      "text/plain": [
       "{'tagName': 'script',\n",
       " 'attributes': {},\n",
       " 'content': \"window.g_config = window.g_config || {};\\n  window.g_config.regionID = 'NP';\\n  window.g_config.language = 'en';\",\n",
       " 'children': []}"
      ]
     },
     "execution_count": 9,
     "metadata": {},
     "output_type": "execute_result"
    }
   ],
   "source": [
    "tree['children'][3]"
   ]
  },
  {
   "cell_type": "code",
   "execution_count": 10,
   "metadata": {},
   "outputs": [],
   "source": [
    "tagnames = []\n",
    "attrs = []\n",
    "cntnt = []\n",
    "child = []\n",
    "\n",
    "for i in tree['children']:\n",
    "    if i['tagName']:\n",
    "        tagnames.append(i['tagName'])\n",
    "\n",
    "for i in tree['children']:\n",
    "    if i['attributes']:\n",
    "        attrs.append(i['attributes']) \n",
    "\n",
    "for i in tree['children']:\n",
    "    if i['children']:\n",
    "        child.append(i['children']) "
   ]
  },
  {
   "cell_type": "code",
   "execution_count": 11,
   "metadata": {},
   "outputs": [
    {
     "data": {
      "text/plain": [
       "['script',\n",
       " 'script',\n",
       " 'script',\n",
       " 'script',\n",
       " 'script',\n",
       " 'script',\n",
       " 'link',\n",
       " 'script',\n",
       " 'div',\n",
       " 'input',\n",
       " 'style',\n",
       " 'div',\n",
       " 'script',\n",
       " 'div',\n",
       " 'script',\n",
       " 'script',\n",
       " 'script',\n",
       " 'script',\n",
       " 'script',\n",
       " 'script',\n",
       " 'input']"
      ]
     },
     "execution_count": 11,
     "metadata": {},
     "output_type": "execute_result"
    }
   ],
   "source": [
    "tagnames"
   ]
  },
  {
   "cell_type": "code",
   "execution_count": 12,
   "metadata": {},
   "outputs": [
    {
     "data": {
      "text/plain": [
       "[{'src': '//laz-g-cdn.alicdn.com/lzd/assets/0.0.2/??babel-polyfill/6.26.0/polyfill.min.js,react/16.2.0/react.production.min.js,react-dom/16.2.0/react-dom.production.min.js'},\n",
       " {'src': '//laz-g-cdn.alicdn.com/lzd/assets/0.0.5/next/0.19.21/next.min.js'},\n",
       " {'href': '//laz-g-cdn.alicdn.com/lzdmod/??site-nav-pc-daraz/5.4.86/pc/index.css,site-menu-nav-pc-daraz/5.1.1/pc/index.css,site-menu-pc-daraz/5.1.21/pc/index.css',\n",
       "  'rel': ['stylesheet']},\n",
       " {'class': ['mui-zebra-module'],\n",
       "  'data-module-id': '2553362700',\n",
       "  'data-spm': '2553362700',\n",
       "  'data-version': '5.4.86',\n",
       "  'id': 'J_2553362700'},\n",
       " {'id': 'header-pc-config',\n",
       "  'type': 'hidden',\n",
       "  'value': '{\"voyagerVersion\":\"2\",\"voyagerEnv\":\"IDC\",\"assetsRefactor\":false,\"regionID\":\"NP\",\"language\":\"en\",\"react\":false,\"needUmid\":false,\"channel\":\"default\",\"version\":{\"nav\":\"5.4.85\",\"search\":\"0.0.3\",\"menu\":\"5.1.21\",\"menuNav\":\"5.1.1\",\"suffix\":\"-daraz\"},\"needRetCode\":true,\"retCodePageName\":\"\",\"hideCategory\":true,\"needReact\":false,\"thymeleaf\":true,\"grayFilter\":{\"TH\":false,\"SG\":false,\"MY\":false,\"ID\":false,\"PH\":false,\"VN\":false},\"isHomePage\":false,\"isMiniHeader\":false,\"java\":true}'},\n",
       " {'class': ['breadcrumb_list', 'breadcrumb_custom_cls'],\n",
       "  'data-spm': 'breadcrumb',\n",
       "  'id': 'J_breadcrumb_list'},\n",
       " {'id': 'root'},\n",
       " {'data-env': 'lazada',\n",
       "  'src': '//laz-g-cdn.alicdn.com/sd/ctl/ctl.js?v=3.0',\n",
       "  'type': 'text/javascript'},\n",
       " {'src': '//aeis.alicdn.com/sd/ncpc/nc.js?t=19866'},\n",
       " {'src': '//g.alicdn.com/daraz-fe/search-js-execution-log/0.0.6/build.js'},\n",
       " {'src': '//laz-g-cdn.alicdn.com/daraz-fe/search-client/1.0.46/js/desktop.js'},\n",
       " {'id': 'footer-pc-config',\n",
       "  'type': 'hidden',\n",
       "  'value': '{\"voyagerVersion\":\"2\",\"voyagerEnv\":\"IDC\",\"assetsRefactor\":false,\"regionID\":\"NP\",\"language\":\"en\",\"react\":false,\"needUmid\":false,\"channel\":\"default\",\"version\":{\"nav\":\"5.4.85\",\"search\":\"0.0.3\",\"menu\":\"5.1.21\",\"menuNav\":\"5.1.1\",\"suffix\":\"-daraz\"},\"needRetCode\":true,\"retCodePageName\":\"\",\"hideCategory\":true,\"needReact\":false,\"thymeleaf\":true,\"grayFilter\":{\"TH\":false,\"SG\":false,\"MY\":false,\"ID\":false,\"PH\":false,\"VN\":false},\"isHomePage\":false,\"isMiniHeader\":false,\"java\":true}'}]"
      ]
     },
     "execution_count": 12,
     "metadata": {},
     "output_type": "execute_result"
    }
   ],
   "source": [
    "attrs"
   ]
  },
  {
   "cell_type": "markdown",
   "metadata": {},
   "source": [
    "# Chunking HTML data"
   ]
  },
  {
   "cell_type": "code",
   "execution_count": 13,
   "metadata": {},
   "outputs": [
    {
     "data": {
      "text/plain": [
       "['script', 'link', 'div', 'input', 'style']"
      ]
     },
     "execution_count": 13,
     "metadata": {},
     "output_type": "execute_result"
    }
   ],
   "source": [
    "uq_tag_set = set()\n",
    "uq_tag_ls = []\n",
    "for i in tagnames:\n",
    "    if i not in uq_tag_set:\n",
    "        uq_tag_set.add(i)\n",
    "        uq_tag_ls.append(i)\n",
    "\n",
    "uq_tag_ls"
   ]
  },
  {
   "cell_type": "code",
   "execution_count": 16,
   "metadata": {},
   "outputs": [
    {
     "data": {
      "text/plain": [
       "[Document(page_content='Foo \\n Some intro text about Foo.', metadata={'Header 1': 'Foo'}),\n",
       " Document(page_content='Bar main section \\n Some intro text about Bar. \\n Bar subsection 1 \\n Some text about the first subtopic of Bar. \\n Bar subsection 2 \\n Some text about the second subtopic of Bar.', metadata={'Header 2': 'Bar main section'}),\n",
       " Document(page_content='Baz \\n Some text about Baz \\n \\n \\n Some concluding text about Foo', metadata={'Header 2': 'Baz'})]"
      ]
     },
     "execution_count": 16,
     "metadata": {},
     "output_type": "execute_result"
    }
   ],
   "source": [
    "from langchain_text_splitters import HTMLSectionSplitter\n",
    "\n",
    "html = \"\"\"\n",
    "    <!DOCTYPE html>\n",
    "    <html>\n",
    "    <body>\n",
    "        <div>\n",
    "            <h1>Foo</h1>\n",
    "            <p>Some intro text about Foo.</p>\n",
    "            <div>\n",
    "                <h2>Bar main section</h2>\n",
    "                <p>Some intro text about Bar.</p>\n",
    "                <h3>Bar subsection 1</h3>\n",
    "                <p>Some text about the first subtopic of Bar.</p>\n",
    "                <h3>Bar subsection 2</h3>\n",
    "                <p>Some text about the second subtopic of Bar.</p>\n",
    "            </div>\n",
    "            <div>\n",
    "                <h2>Baz</h2>\n",
    "                <p>Some text about Baz</p>\n",
    "            </div>\n",
    "            <br>\n",
    "            <p>Some concluding text about Foo</p>\n",
    "        </div>\n",
    "    </body>\n",
    "    </html>\n",
    "\"\"\"\n",
    "\n",
    "headers_to_split_on = [(\"h1\", \"Header 1\"), (\"h2\", \"Header 2\")]\n",
    "\n",
    "html_splitter = HTMLSectionSplitter(headers_to_split_on=headers_to_split_on)\n",
    "html_header_splits = html_splitter.split_text(html)\n",
    "html_header_splits"
   ]
  }
 ],
 "metadata": {
  "kernelspec": {
   "display_name": "grpsrVenv",
   "language": "python",
   "name": "python3"
  },
  "language_info": {
   "codemirror_mode": {
    "name": "ipython",
    "version": 3
   },
   "file_extension": ".py",
   "mimetype": "text/x-python",
   "name": "python",
   "nbconvert_exporter": "python",
   "pygments_lexer": "ipython3",
   "version": "3.12.3"
  }
 },
 "nbformat": 4,
 "nbformat_minor": 2
}
