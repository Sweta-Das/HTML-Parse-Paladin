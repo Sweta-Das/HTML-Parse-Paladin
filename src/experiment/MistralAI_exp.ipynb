{
  "cells": [
    {
      "cell_type": "code",
      "execution_count": null,
      "metadata": {
        "collapsed": true,
        "id": "psvBIQIRz68x"
      },
      "outputs": [],
      "source": [
        "!pip install transformers torch\n",
        "!pip install langchain_community"
      ]
    },
    {
      "cell_type": "code",
      "execution_count": 2,
      "metadata": {
        "id": "eHWGOFjQ1BWY"
      },
      "outputs": [],
      "source": [
        "from google.colab import userdata\n",
        "\n",
        "key=userdata.get('HF_TOKEN')"
      ]
    },
    {
      "cell_type": "code",
      "execution_count": 8,
      "metadata": {
        "colab": {
          "base_uri": "https://localhost:8080/"
        },
        "id": "LdQNuJyn0EOy",
        "outputId": "b9898a62-4f1d-43bb-ac22-a480a2140a1d"
      },
      "outputs": [
        {
          "name": "stdout",
          "output_type": "stream",
          "text": [
            "The token has not been saved to the git credentials helper. Pass `add_to_git_credential=True` in this function directly or `--add-to-git-credential` if using via `huggingface-cli` if you want to set the git credential as well.\n",
            "Token is valid (permission: read).\n",
            "Your token has been saved to /root/.cache/huggingface/token\n",
            "Login successful\n"
          ]
        }
      ],
      "source": [
        "from langchain.llms import HuggingFaceEndpoint\n",
        "\n",
        "llm = HuggingFaceEndpoint(\n",
        "    repo_id = \"mistralai/Mixtral-8x7B-Instruct-v0.1\",\n",
        "    huggingfacehub_api_token = key\n",
        ")"
      ]
    },
    {
      "cell_type": "code",
      "execution_count": 16,
      "metadata": {
        "colab": {
          "base_uri": "https://localhost:8080/"
        },
        "id": "JBW-NYd01RwJ",
        "outputId": "2defd90b-6521-4621-dde3-a98a88a43b39"
      },
      "outputs": [
        {
          "data": {
            "text/plain": [
              "PromptTemplate(input_variables=['html'], template='\\n<|sys|>\\nYou are an expert in Web Scraping, so you are capable to find the information in HTML and label them accordingly. Please return the final result in JSON.\\n</sys>\\n<|user|>     \\nHTML: {html}\\n</user>\\n<|sys|>\\nJSON: \\n</sys>\\n')"
            ]
          },
          "execution_count": 16,
          "metadata": {},
          "output_type": "execute_result"
        }
      ],
      "source": [
        "from langchain.prompts import PromptTemplate\n",
        "from langchain.chains import LLMChain\n",
        "\n",
        "template = \"\"\"\n",
        "<|sys|>\n",
        "        You are an expert in Web Scraping, so you are capable to find the information in HTML and label them accordingly. Please return the final result in JSON following the below format:\n",
        "        product: Name of the product\n",
        "        product_tag: CSS selectors or Xpaths associated with product\n",
        "        price: Price of the product\n",
        "        price_tag: CSS selectors or Xpaths associated with price\n",
        "        desc: Description about the product\n",
        "        desc_tag: CSS selectors or Xpaths associated with description of product\n",
        "        img: Images associated with the product\n",
        "        img_tag: CSS selectors or Xpaths\n",
        "        </sys>\n",
        "        <|user|>\n",
        "        HTML: {html}\n",
        "        </user>\n",
        "        <|sys|>\n",
        "        JSON:\n",
        "        </sys>\n",
        "\"\"\"\n",
        "\n",
        "prompt = PromptTemplate.from_template(template)\n",
        "prompt"
      ]
    },
    {
      "cell_type": "code",
      "execution_count": null,
      "metadata": {
        "colab": {
          "base_uri": "https://localhost:8080/"
        },
        "id": "oMbCxr2v3F4F",
        "outputId": "e00c8c61-858d-4239-c636-5f2e435a7cc2"
      },
      "outputs": [],
      "source": [
        "conv = LLMChain(\n",
        "    llm=llm,\n",
        "    prompt=prompt,\n",
        "    verbose=True\n",
        ")"
      ]
    },
    {
      "cell_type": "code",
      "execution_count": 19,
      "metadata": {
        "colab": {
          "base_uri": "https://localhost:8080/"
        },
        "id": "5IKh7jtk3h4Q",
        "outputId": "6b1b6ef9-ea99-4541-fe02-6fbbe5a17771"
      },
      "outputs": [
        {
          "name": "stdout",
          "output_type": "stream",
          "text": [
            "\n",
            "\n",
            "\u001b[1m> Entering new LLMChain chain...\u001b[0m\n",
            "Prompt after formatting:\n",
            "\u001b[32;1m\u001b[1;3m\n",
            "<|sys|>\n",
            "You are an expert in Web Scraping, so you are capable to find the information in HTML and label them accordingly. Please return the final result in JSON.\n",
            "</sys>\n",
            "<|user|>     \n",
            "HTML: <div jscontroller=\"AtSb\" class=\"w7Dbne CR1S4b\" data-record-click-time=\"false\" id=\"tsuid_48\" jsdata=\"zt2wNd;_;A+m88g WDO8Ff;_;A+m88s\" jsaction=\"rcuQ6b:npT2md;e3EWke:kN9HDb\" data-hveid=\"CC4QAA\">\n",
            "    <div jsname=\"jXK9ad\" class=\"uMdZh tIxNaf rllt__borderless\" jsaction=\"mouseover:UI3Kjd;mouseleave:Tx5Rb;focusin:UI3Kjd;focusout:Tx5Rb\">\n",
            "      <div class=\"VkpGBb\">\n",
            "        <div class=\"cXedhc\">\n",
            "          <a class=\"vwVdIc wzN8Ac rllt__link a-no-hover-decoration\" jsname=\"kj0dLd\" data-cid=\"11265938073076301333\" jsaction=\"click:h5M12e;\" role=\"link\" tabindex=\"0\" data-ved=\"2ahUKEwjC7OW8romDAxXwFVkFHbmLAEoQ1YkKegQILhAB\">\n",
            "            <div>\n",
            "              <div class=\"rllt__details\">\n",
            "                <div class=\"dbg0pd\" aria-level=\"3\" role=\"heading\"><span class=\"OSrXXb\">Houndstooth Coffee</span></div>\n",
            "                <div><span><span class=\"Y0A0hc\"><span class=\"yi40Hd YrbPuc\" aria-hidden=\"true\">4.6</span><span class=\"z3HNkc fUNJzc\" aria-label=\"Rated 4.6 out of 5,\" role=\"img\"><span style=\"width:12px\"></span></span><span class=\"RDApEe YrbPuc\">(922)</span></span></span> · <span aria-label=\"Moderately expensive\" role=\"img\">$$</span> · Coffee shop</div>\n",
            "                <div>401 Congress Ave. #100c</div>\n",
            "                <div><span><span style=\"color:rgba(217,48,37,1.0)\">Closed</span> ⋅ Opens 6:30 AM</span></div>\n",
            "                <div class=\"pJ3Ci\"><span>Cozy hangout for carefully sourced brews</span></div>\n",
            "              </div>\n",
            "            </div>\n",
            "          </a>\n",
            "          <a class=\"uQ4NLd b9tNq wzN8Ac rllt__link a-no-hover-decoration\" aria-hidden=\"true\" tabindex=\"-1\" jsname=\"kj0dLd\" data-cid=\"11265938073076301333\" jsaction=\"click:h5M12e;\" role=\"link\" data-ved=\"2ahUKEwjC7OW8romDAxXwFVkFHbmLAEoQ1YkKegQILhAP\">\n",
            "            <g-img class=\"gTrj3e\"><img id=\"pimg_2\" src=\"https://lh5.googleusercontent.com/p/AF1QipNRZ1ehiInk8CTrHCD08GnhcnF7e4q-1H8Qs8mG=w114-h114-n-k-no\" class=\"YQ4gaf zr758c wA1Bge\" height=\"114\" width=\"114\" alt=\"\" data-csiid=\"2\" data-atf=\"1\"></g-img>\n",
            "          </a>\n",
            "        </div>\n",
            "      </div>\n",
            "    </div>\n",
            "  </div>\n",
            "</user>\n",
            "<|sys|>\n",
            "JSON: \n",
            "</sys>\n",
            "\u001b[0m\n",
            "\n",
            "\u001b[1m> Finished chain.\u001b[0m\n"
          ]
        }
      ],
      "source": [
        "with open(\"test.html\", 'r', encoding='utf-8') as file:\n",
        "  html = file.read()\n",
        "\n",
        "res = conv(\n",
        "    {\"html\": f\"{html}\"}\n",
        ")"
      ]
    },
    {
      "cell_type": "code",
      "execution_count": 21,
      "metadata": {
        "colab": {
          "base_uri": "https://localhost:8080/",
          "height": 105
        },
        "id": "5NO-H59G4CUz",
        "outputId": "fe71a410-7ec2-42e9-aa79-cb589eaa8b9c"
      },
      "outputs": [
        {
          "data": {
            "application/vnd.google.colaboratory.intrinsic+json": {
              "type": "string"
            },
            "text/plain": [
              "'{\\n  \"name\": \"Houndstooth Coffee\",\\n  \"rating\": 4.6,\\n  \"reviews_count\": 922,\\n  \"price_level\": \"$$\",\\n  \"type\": \"Coffee shop\",\\n  \"location\": \"401 Congress Ave. #100c\",\\n  \"status\": \"Closed\",\\n  \"open_time\": \"Opens 6:30 AM\",\\n  \"description\": \"Cozy hangout for carefully sourced brews\",\\n  \"img_url\": \"https://lh5.googleusercontent.com/p/AF1QipNRZ1ehiInk8CTrHCD08GnhcnF7e4q-1H8Qs8mG=w114-h114-n-k-no\"\\n}'"
            ]
          },
          "execution_count": 21,
          "metadata": {},
          "output_type": "execute_result"
        }
      ],
      "source": [
        "res['text']"
      ]
    },
    {
      "cell_type": "code",
      "execution_count": 22,
      "metadata": {
        "colab": {
          "base_uri": "https://localhost:8080/"
        },
        "id": "_O0mtfsO4teu",
        "outputId": "90804518-a88c-4b79-8b4c-88f68b2002f5"
      },
      "outputs": [
        {
          "data": {
            "text/plain": [
              "str"
            ]
          },
          "execution_count": 22,
          "metadata": {},
          "output_type": "execute_result"
        }
      ],
      "source": [
        "type(res['text'])"
      ]
    },
    {
      "cell_type": "code",
      "execution_count": 23,
      "metadata": {
        "colab": {
          "base_uri": "https://localhost:8080/",
          "height": 105
        },
        "id": "DJE28cfI4yWF",
        "outputId": "48d8cc33-cf24-41c3-fbac-3093823b0782"
      },
      "outputs": [
        {
          "data": {
            "application/vnd.google.colaboratory.intrinsic+json": {
              "type": "string"
            },
            "text/plain": [
              "'\"{\\\\n  \\\\\"name\\\\\": \\\\\"Houndstooth Coffee\\\\\",\\\\n  \\\\\"rating\\\\\": 4.6,\\\\n  \\\\\"reviews_count\\\\\": 922,\\\\n  \\\\\"price_level\\\\\": \\\\\"$$\\\\\",\\\\n  \\\\\"type\\\\\": \\\\\"Coffee shop\\\\\",\\\\n  \\\\\"location\\\\\": \\\\\"401 Congress Ave. #100c\\\\\",\\\\n  \\\\\"status\\\\\": \\\\\"Closed\\\\\",\\\\n  \\\\\"open_time\\\\\": \\\\\"Opens 6:30 AM\\\\\",\\\\n  \\\\\"description\\\\\": \\\\\"Cozy hangout for carefully sourced brews\\\\\",\\\\n  \\\\\"img_url\\\\\": \\\\\"https://lh5.googleusercontent.com/p/AF1QipNRZ1ehiInk8CTrHCD08GnhcnF7e4q-1H8Qs8mG=w114-h114-n-k-no\\\\\"\\\\n}\"'"
            ]
          },
          "execution_count": 23,
          "metadata": {},
          "output_type": "execute_result"
        }
      ],
      "source": [
        "import json\n",
        "\n",
        "js = json.dumps(res['text'])\n",
        "js"
      ]
    }
  ],
  "metadata": {
    "accelerator": "GPU",
    "colab": {
      "gpuType": "T4",
      "provenance": []
    },
    "kernelspec": {
      "display_name": "Python 3",
      "name": "python3"
    },
    "language_info": {
      "codemirror_mode": {
        "name": "ipython",
        "version": 3
      },
      "file_extension": ".py",
      "mimetype": "text/x-python",
      "name": "python",
      "nbconvert_exporter": "python",
      "pygments_lexer": "ipython3",
      "version": "3.12.3"
    }
  },
  "nbformat": 4,
  "nbformat_minor": 0
}
