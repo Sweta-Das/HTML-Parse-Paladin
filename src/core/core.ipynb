{
 "cells": [
  {
   "cell_type": "code",
   "execution_count": 1,
   "metadata": {},
   "outputs": [],
   "source": [
    "import os\n",
    "from bs4 import BeautifulSoup\n",
    "from dotenv import load_dotenv, find_dotenv\n",
    "\n",
    "load_dotenv(find_dotenv())\n",
    "\n",
    "path = os.environ[\"filepath\"]\n",
    "filename = \"test1.html\"\n",
    "filepath = os.path.join(path, filename)\n",
    "with open(filepath, 'r', encoding='utf-8') as file:\n",
    "    html = file.read()\n",
    "\n",
    "soup = BeautifulSoup(html, 'html.parser')\n",
    "frmt_html = soup.prettify()\n",
    "\n",
    "with open(filepath, 'w', encoding='utf-8') as file:\n",
    "    file.write(frmt_html)"
   ]
  },
  {
   "cell_type": "markdown",
   "metadata": {},
   "source": [
    "# Loading HTML page"
   ]
  },
  {
   "cell_type": "code",
   "execution_count": 35,
   "metadata": {},
   "outputs": [
    {
     "name": "stderr",
     "output_type": "stream",
     "text": [
      "[nltk_data] Downloading package averaged_perceptron_tagger to\n",
      "[nltk_data]     C:\\Users\\Acer\\AppData\\Roaming\\nltk_data...\n",
      "[nltk_data]   Unzipping taggers\\averaged_perceptron_tagger.zip.\n"
     ]
    },
    {
     "name": "stdout",
     "output_type": "stream",
     "text": [
      "Successfully fetched content!\n"
     ]
    }
   ],
   "source": [
    "import requests\n",
    "from unstructured.partition.html import partition_html\n",
    "\n",
    "def load_url(url):\n",
    "\n",
    "    try:\n",
    "        response = requests.get(url)\n",
    "\n",
    "        if response.status_code == 200:\n",
    "            html_content = response.text\n",
    "            doc_elements = partition_html(text=html_content)\n",
    "            print(\"Successfully fetched content!\")\n",
    "            return html_content, doc_elements\n",
    "    except Exception as e:\n",
    "        print(f\"Error while fetching HTML content from URL {e}: {response.status_code}\")\n",
    "\n",
    "url = \"https://www.daraz.com.np/\"\n",
    "html, partition = load_url(url)"
   ]
  },
  {
   "cell_type": "markdown",
   "metadata": {},
   "source": [
    "# Data Ingestion and Preprocessing HTML Content"
   ]
  },
  {
   "cell_type": "code",
   "execution_count": null,
   "metadata": {},
   "outputs": [],
   "source": [
    "partition"
   ]
  },
  {
   "cell_type": "code",
   "execution_count": null,
   "metadata": {},
   "outputs": [],
   "source": [
    "group = {\n",
    "    'metadata': {\n",
    "        'source': url,\n",
    "    },\n",
    "    'page_content': ''\n",
    "}\n",
    "\n",
    "all_groups = []\n",
    "\n",
    "for element in partition:\n",
    "    if 'unstructured.documents.html.HTMLTitle' in str(type(element)):\n",
    "        if group['page_content']:\n",
    "            all_groups.append(group)\n",
    "            group = {\n",
    "                'metadata': {\n",
    "                    'source': url,\n",
    "                },\n",
    "                'page_content': ''\n",
    "            }\n",
    "        group['page_content'] += element.text\n",
    "    elif 'unstructured.documents.html.HTMLNarrativeText' in str(type(element)):\n",
    "        group['page_content'] += '. '+element.text \n",
    "    elif 'unstructured.documents.html.HTMLListItem' in str(type(element)):\n",
    "        group['page_content'] += '\\n'+element.text\n",
    "    else:\n",
    "        group['page_content'] += '\\n\\n'+element.text\n",
    "\n",
    "if group['page_content']:\n",
    "    all_groups.append(group)\n",
    "\n",
    "for group in all_groups[:]:\n",
    "    print(group)"
   ]
  },
  {
   "cell_type": "code",
   "execution_count": 1,
   "metadata": {},
   "outputs": [],
   "source": [
    "# Direct partitioning\n",
    "from unstructured.partition.html import partition_html\n",
    "\n",
    "url = \"https://www.daraz.com.np/\"\n",
    "partition = partition_html(url=url)"
   ]
  },
  {
   "cell_type": "code",
   "execution_count": 2,
   "metadata": {},
   "outputs": [
    {
     "name": "stdout",
     "output_type": "stream",
     "text": [
      "{'metadata': {'source': 'https://www.daraz.com.np/'}, 'tag': '', 'page_content': 'Become a Seller'}\n",
      "{'metadata': {'source': 'https://www.daraz.com.np/'}, 'tag': 'title', 'page_content': 'Payments & Recharge'}\n",
      "{'metadata': {'source': 'https://www.daraz.com.np/'}, 'tag': 'title', 'page_content': 'Help & Support'}\n",
      "{'metadata': {'source': 'https://www.daraz.com.np/'}, 'tag': 'title', 'page_content': 'Daraz Logistics Partner'}\n",
      "{'metadata': {'source': 'https://www.daraz.com.np/'}, 'tag': 'title', 'page_content': 'Save More on App'}\n",
      "{'metadata': {'source': 'https://www.daraz.com.np/'}, 'tag': 'title', 'page_content': 'Download the App'}\n",
      "{'metadata': {'source': 'https://www.daraz.com.np/'}, 'tag': 'title', 'page_content': 'Login'}\n",
      "{'metadata': {'source': 'https://www.daraz.com.np/'}, 'tag': 'title', 'page_content': 'Select Language'}\n",
      "{'metadata': {'source': 'https://www.daraz.com.np/'}, 'tag': 'title', 'page_content': 'EN / English'}\n",
      "{'metadata': {'source': 'https://www.daraz.com.np/'}, 'tag': 'title', 'page_content': 'NE / Nepali'}\n",
      "{'metadata': {'source': 'https://www.daraz.com.np/'}, 'tag': 'title', 'page_content': 'Categories'}\n",
      "{'metadata': {'source': 'https://www.daraz.com.np/'}, 'tag': 'title', 'page_content': 'Categories'}\n",
      "{'metadata': {'source': 'https://www.daraz.com.np/'}, 'tag': 'title', 'page_content': 'Flash Sale'}\n",
      "{'metadata': {'source': 'https://www.daraz.com.np/'}, 'tag': 'title', 'page_content': 'DarazMall'}\n",
      "{'metadata': {'source': 'https://www.daraz.com.np/'}, 'tag': 'title', 'page_content': 'Just For You'}\n",
      "{'metadata': {'source': 'https://www.daraz.com.np/'}, 'tag': 'title', 'page_content': 'Categories'}\n",
      "{'metadata': {'source': 'https://www.daraz.com.np/'}, 'tag': 'title', 'page_content': 'Flash Sale'}\n",
      "{'metadata': {'source': 'https://www.daraz.com.np/'}, 'tag': 'title', 'page_content': 'SHOP MORE'}\n",
      "{'metadata': {'source': 'https://www.daraz.com.np/'}, 'tag': 'title', 'page_content': 'DarazMall'}\n",
      "{'metadata': {'source': 'https://www.daraz.com.np/'}, 'tag': 'title', 'page_content': 'SHOP MORE'}\n",
      "{'metadata': {'source': 'https://www.daraz.com.np/'}, 'tag': 'title', 'page_content': 'Just For You'}\n",
      "{'metadata': {'source': 'https://www.daraz.com.np/'}, 'tag': 'title', 'page_content': 'Load More'}\n",
      "{'metadata': {'source': 'https://www.daraz.com.np/'}, 'tag': 'title', 'page_content': 'Customer Care'}\n",
      "{'metadata': {'source': 'https://www.daraz.com.np/'}, 'tag': 'title', 'page_content': 'Earn with Daraz'}\n",
      "{'metadata': {'source': 'https://www.daraz.com.np/'}, 'tag': 'title', 'page_content': 'Daraz'}\n",
      "{'metadata': {'source': 'https://www.daraz.com.np/'}, 'tag': 'title', 'page_content': 'Daraz International'}\n",
      "{'metadata': {'source': 'https://www.daraz.com.np/'}, 'tag': 'title', 'page_content': 'Pakistan'}\n",
      "{'metadata': {'source': 'https://www.daraz.com.np/'}, 'tag': 'title', 'page_content': 'Bangladesh'}\n",
      "{'metadata': {'source': 'https://www.daraz.com.np/'}, 'tag': 'title', 'page_content': 'Sri Lanka'}\n",
      "{'metadata': {'source': 'https://www.daraz.com.np/'}, 'tag': 'title', 'page_content': 'Myanmar'}\n",
      "{'metadata': {'source': 'https://www.daraz.com.np/'}, 'tag': 'title', 'page_content': 'Nepal'}\n",
      "{'metadata': {'source': 'https://www.daraz.com.np/'}, 'tag': 'title', 'page_content': 'Payment Methods'}\n",
      "{'metadata': {'source': 'https://www.daraz.com.np/'}, 'tag': 'title', 'page_content': 'Verified by'}\n",
      "{'metadata': {'source': 'https://www.daraz.com.np/'}, 'tag': 'title', 'page_content': 'Exclusive Deals and Offers!'}\n",
      "{'metadata': {'source': 'https://www.daraz.com.np/'}, 'tag': 'title', 'page_content': 'Download App'}\n",
      "{'metadata': {'source': 'https://www.daraz.com.np/'}, 'tag': 'title', 'page_content': 'Follow Us'}\n",
      "{'metadata': {'source': 'https://www.daraz.com.np/'}, 'tag': 'title', 'page_content': 'Experience Hassle-Free Online Shopping in Nepal with Daraz'}\n",
      "{'metadata': {'source': 'https://www.daraz.com.np/'}, 'tag': 'title', 'page_content': 'Convenient Online Shopping in Nepal'}\n",
      "{'metadata': {'source': 'https://www.daraz.com.np/'}, 'tag': 'title', 'page_content': 'General Information:'}\n",
      "{'metadata': {'source': 'https://www.daraz.com.np/'}, 'tag': 'title', 'page_content': 'Grievance handling Information:'}\n",
      "{'metadata': {'source': 'https://www.daraz.com.np/'}, 'tag': 'title', 'page_content': 'TRENDING'}\n",
      "{'metadata': {'source': 'https://www.daraz.com.np/'}, 'tag': 'title', 'page_content': 'Realme GT Neo 3'}\n",
      "{'metadata': {'source': 'https://www.daraz.com.np/'}, 'tag': 'title', 'page_content': 'Top Categories & Brands'}\n",
      "{'metadata': {'source': 'https://www.daraz.com.np/'}, 'tag': 'title', 'page_content': 'New Mobile Phones in Nepal'}\n",
      "{'metadata': {'source': 'https://www.daraz.com.np/'}, 'tag': 'title', 'page_content': 'Mobile Accessories'}\n",
      "{'metadata': {'source': 'https://www.daraz.com.np/'}, 'tag': 'title', 'page_content': 'Latest Laptops'}\n",
      "{'metadata': {'source': 'https://www.daraz.com.np/'}, 'tag': 'title', 'page_content': 'Dell Laptops'}\n",
      "{'metadata': {'source': 'https://www.daraz.com.np/'}, 'tag': 'title', 'page_content': 'LED TVs Prices'}\n",
      "{'metadata': {'source': 'https://www.daraz.com.np/'}, 'tag': 'title', 'page_content': 'Videocon LED TVs'}\n",
      "{'metadata': {'source': 'https://www.daraz.com.np/'}, 'tag': 'title', 'page_content': 'Summer Appliances'}\n",
      "{'metadata': {'source': 'https://www.daraz.com.np/'}, 'tag': 'title', 'page_content': 'Water Dispensers'}\n",
      "{'metadata': {'source': 'https://www.daraz.com.np/'}, 'tag': 'title', 'page_content': 'Cameras'}\n",
      "{'metadata': {'source': 'https://www.daraz.com.np/'}, 'tag': 'title', 'page_content': 'IP & CCTV Cameras'}\n",
      "{'metadata': {'source': 'https://www.daraz.com.np/'}, 'tag': 'title', 'page_content': 'Latest Gadgets'}\n",
      "{'metadata': {'source': 'https://www.daraz.com.np/'}, 'tag': 'title', 'page_content': 'iPhone 14 Pro Max'}\n",
      "{'metadata': {'source': 'https://www.daraz.com.np/'}, 'tag': 'title', 'page_content': 'Computer Components'}\n",
      "{'metadata': {'source': 'https://www.daraz.com.np/'}, 'tag': 'title', 'page_content': 'Gaming Graphic Cards'}\n",
      "{'metadata': {'source': 'https://www.daraz.com.np/'}, 'tag': 'title', 'page_content': \"Women's Fashion\"}\n",
      "{'metadata': {'source': 'https://www.daraz.com.np/'}, 'tag': 'title', 'page_content': 'T-shirts for Ladies & Girls'}\n",
      "{'metadata': {'source': 'https://www.daraz.com.np/'}, 'tag': 'title', 'page_content': \"Men's Fashion\"}\n",
      "{'metadata': {'source': 'https://www.daraz.com.np/'}, 'tag': 'title', 'page_content': \"Men's Watches\"}\n",
      "{'metadata': {'source': 'https://www.daraz.com.np/'}, 'tag': 'title', 'page_content': 'Online Grocery Store'}\n",
      "{'metadata': {'source': 'https://www.daraz.com.np/'}, 'tag': 'title', 'page_content': 'Coffee'}\n",
      "{'metadata': {'source': 'https://www.daraz.com.np/'}, 'tag': 'title', 'page_content': 'Online Bookstore'}\n",
      "{'metadata': {'source': 'https://www.daraz.com.np/'}, 'tag': 'title', 'page_content': 'Religious Items'}\n",
      "{'metadata': {'source': 'https://www.daraz.com.np/'}, 'tag': 'title', 'page_content': 'Online Automotive Store'}\n",
      "{'metadata': {'source': 'https://www.daraz.com.np/'}, 'tag': 'title', 'page_content': 'Helmets'}\n",
      "{'metadata': {'source': 'https://www.daraz.com.np/'}, 'tag': 'title', 'page_content': 'Leading Online Stores'}\n",
      "{'metadata': {'source': 'https://www.daraz.com.np/'}, 'tag': 'title', 'page_content': 'Apple'}\n",
      "{'metadata': {'source': 'https://www.daraz.com.np/'}, 'tag': 'title', 'page_content': 'Trending Products'}\n",
      "{'metadata': {'source': 'https://www.daraz.com.np/'}, 'tag': 'title', 'page_content': 'Stealth 13'}\n"
     ]
    }
   ],
   "source": [
    "group = {\n",
    "    'metadata': {\n",
    "        'source': url,\n",
    "    },\n",
    "    'tag': '',\n",
    "    'page_content': ''\n",
    "}\n",
    "\n",
    "title_groups = []\n",
    "\n",
    "for element in partition:\n",
    "    if 'unstructured.documents.html.HTMLTitle' in str(type(element)):\n",
    "        if group['page_content']:\n",
    "            title_groups.append(group)\n",
    "            group = {\n",
    "                'metadata': {\n",
    "                    'source': url,\n",
    "                },\n",
    "                'tag': 'title',\n",
    "                'page_content': ''\n",
    "            }\n",
    "        group['page_content'] += element.text\n",
    "\n",
    "if group['page_content']:\n",
    "    title_groups.append(group)\n",
    "\n",
    "for group in title_groups[:]:\n",
    "    print(group)"
   ]
  },
  {
   "cell_type": "code",
   "execution_count": 3,
   "metadata": {},
   "outputs": [
    {
     "name": "stdout",
     "output_type": "stream",
     "text": [
      "{'metadata': {'source': 'https://www.daraz.com.np/'}, 'tag': 'Narrative Text', 'page_content': \"Stealth 13. Success! Please check your phone for the download link. E-commerce has evolved over the past few years and since it’s easier and more convenient, it is evident that customers are actually switching to the trend of online shopping. Daraz, the Nepali shopping store, brings a whole new concept by showcasing a number of famous brands under one roof. Not only does it fulfill clothing necessities of both men and women but you can also shop for all kinds of appliances like air conditioners, heaters, refrigerators, LED TVs and a lot more. Simply select your favorite brand like Samsung, Apple, HP, Huawei, Dell, Canon, Nikon, etc and get yourself the best electronic items.. Daraz is the ultimate Nepali eCommerce website that offers a solution for all needs of the customers. It has a wide and assorted range of products including clothing, electronics, mobile phones, home and living, health and beauty and much more.. Daraz strives to provide customers the best shopping experience in Nepal. The online store is updated daily and new products are added every day to cater to all your needs. Visit Daraz.com.np to experience shopping in Nepal as never before. Don't forget to Download Daraz App and get exclusive discounts.. Daraz is a global online marketplace with ecommerce stores in Pakistan, Bangladesh, Nepal, Sri Lanka and Myanmar.. Daraz Kaymu Private LimitedKathmandu Metropolitan City, Ward No. 11,Thapathali,Kathmandu, NepalVAT No. 602403687. Grievance Management015970597 (please ask to be redirected to our Grievance Management team)\"}\n"
     ]
    }
   ],
   "source": [
    "narr_txt = []\n",
    "\n",
    "for element in partition:\n",
    "    if 'unstructured.documents.html.HTMLNarrativeText' in str(type(element)):\n",
    "        group['tag'] = 'Narrative Text'\n",
    "        group['page_content'] += '. '+element.text \n",
    "\n",
    "if group['page_content']:\n",
    "    narr_txt.append(group)\n",
    "\n",
    "for group in narr_txt[:]:\n",
    "    print(group)"
   ]
  },
  {
   "cell_type": "code",
   "execution_count": null,
   "metadata": {},
   "outputs": [],
   "source": [
    "group = {\n",
    "    'metadata': {\n",
    "        'source': url,\n",
    "    },\n",
    "    'tag': '',\n",
    "    'page_content': ''\n",
    "}\n",
    "\n",
    "ls_items = []\n",
    "\n",
    "for element in partition:\n",
    "    if 'unstructured.documents.html.HTMLListItem' in str(type(element)):\n",
    "        group['tag'] = \"Item's list\"\n",
    "        group['page_content'] += '| '+element.text\n",
    "\n",
    "if group['page_content']:\n",
    "    ls_items.append(group)\n",
    "for group in ls_items[:]:\n",
    "    print(group)"
   ]
  },
  {
   "cell_type": "code",
   "execution_count": 7,
   "metadata": {},
   "outputs": [
    {
     "name": "stdout",
     "output_type": "stream",
     "text": [
      "{'metadata': {'source': 'https://www.daraz.com.np/'}, 'tag': \"Item's list\", 'page_content': \"| en\\n                  ⌄| \\ue76c\\n                \\n                    \\n                        Proudly Nepali| \\ue76c\\n                \\n                    \\n                        Free Delivery| \\ue7f9\\n                \\n                Fashion| \\ue7f9\\n                \\n                Beauty| \\ue768\\n                \\n                    \\n                        Home & Decor| Daraz 11.11 Sale\\n          \\n            ,| 12.12 Sale\\n          \\n            ,| Dashain Dhamaka\\n          \\n            ,| Mobile Week\\n          \\n            ,| Valentine's Day Sale\\n          \\n            ,| Cricket Streaming\\n          \\n            ,| Grocery Shopping in Nepal\\n          \\n            ,| Realme GT 2 Pro\\n          \\n            ,| Samsung Mobile Phones\\n          ,| Xiaomi Mobiles\\n          ,| Nokia Mobiles\\n          ,| Oppo\\xa0Mobiles\\n          ,| Apple iPhones\\n          ,| OnePlus\\n          ,| Sony\\xa0Mobiles\\n          ,| Huawei Mobiles\\n          ,| Lenovo Mobiles\\n          ,| Colors\\xa0Mobiles\\n          ,| Gionee Mobiles\\n          ,| HTC Mobiles\\n          ,| Umidigi Mobiles\\n          ,| Tablets\\n          ,| Samsung Tablet\\n          ,| Apple Laptops\\n          ,| Samsung Laptops\\n          ,| Asus Laptops\\n          ,| Acer Laptops\\n          ,| HP Laptops\\n          ,| Samsung LED TVs\\n          ,| Sony LED TVs\\n          ,| Air Conditioners\\n          ,| Refrigerators & Fridges\\n          ,| Samsung Refrigerators\\n          ,| Deep Freezers\\n          ,| Generators & Portable Power\\n          ,| Camera Tripods\\n          ,| Drones\\n          ,| Earphones & Headsets\\n          ,| Power Banks\\n          ,| Smart Watches\\n          ,| Portable Speakers\\n          ,| VR Headsets\\n          ,| PS4 Pro - PS4 Slim\\n          ,| Dell XPS 15\\n          ,| HP Envy 13\\n          ,| HP Spectre x360\\n          ,| Samsung A51\\n          ,| Galaxy Tab A7\\n          ,| Galaxy Tab S7\\n          ,| Samsung A72\\n          ,| Samsung M51\\n          ,| Apple iPhone 11\\n          ,| iPhone 13\\n          ,| Apple Watch\\n          ,| Realme GT Neo 2\\n          ,| Huawei Watch GT 2 Pro\\n          ,| Honor Band 6\\n          ,| Huawei Band 6\\n          ,| Samsung M52\\n          ,| Samsung A52s\\n          ,| Poco F3 GT 5G\\n          ,| iPhone 13 Pro\\n          ,| iPhone 13 Mini\\n          ,| Narzo 50i\\n          ,| Narzo 50A\\n          ,| iPhone 13 Pro Max\\n          ,| OnePlus Nord N10\\n          ,| OnePlus 9 Pro\\n          ,| OnePlus Nord CE 5G\\n          ,| OnePlus 8T\\n          ,| Redmi Note 11\\n          ,| Samsung M33\\n          ,| Samsung A23\\n          ,| Samsung A73\\n          ,| Samsung A33\\n          ,| Samsung A53\\n          ,| Xiaomi Pad 5\\n          ,| NIU\\n          ,| iPhone 14\\n          ,| iPhone 14 Pro\\n          ,| iPhone 14 Plus\\n          ,| Ram\\n          ,| Motherboards\\n          ,| Processors\\n          ,| Desktop Casings\\n          ,| CPU Cooling Fans\\n          ,| Clothes\\n          ,| Ladies Watches\\n          ,| Jewelry\\n          ,| Sarees\\n          ,| Ladies Kurti Designs\\n          ,| Women Undergarments\\n          ,| Shirts for Ladies & Girls\\n          ,| Men's jeans\\n          ,| Bags for Men\\n          ,| Men's Shoes\\n          ,| Men's T-Shirts\\n          ,| Rice\\n          ,| Chocolates\\n          ,| Tea\\n          ,| Stationary Store\\n          ,| Motorcycles - Bikes\\n          ,| Goldstar Shoes\\n          ,| Dell\\n          ,| Samsung\\n          ,| Canon\\n          ,| Oppo\\n          ,| Sony\\n          ,| Nokia\\n          ,| Vivo Y20\\n          ,| Oppo A12\\n          ,| Samsung Galaxy M31\\n          ,| iPhone 12\\n          ,| Redmi 9A\\n          ,| Poco F3\\n          ,| Samsung M12\\n          ,| Oppo F19 Pro\\n          ,| Samsung A32\\n          ,| Infinix Hot 10\\n          ,| Samsung A12\\n          ,| OnePlus Nord 2\\n          ,| Samsung M62\\n          ,| Samsung M32\\n          ,| TVS Ntorq\\n          ,| Poco X3 Pro\\n          ,| Poco C3\\n          ,| Acer Nitro 5\\n          ,| Samsung F22\\n          ,| MI 11 Lite\\n          ,| Gold\\n          ,| Macbook Air\\n          ,| iPad Pro\\n          ,| Lenovo Legion 5\\n          ,| Acer Aspire 5\\n          ,| Ideapad 3\\n          ,| HP Pavilion 15\\n          ,| Khukri Rum\\n          ,| Micromax In Note 1\\n          ,| Realme 9i\\n          ,| Realme 9 Pro+\\n          ,| Gas Geyser\\n          ,| Black Horse\\n          ,| Cactus Toy\\n          ,| Antigen Testkit\\n          ,| PS5\\n          ,| Electric Scooter\\n          ,| Z Flip 3\\n          ,| Tab S6\\n          ,| Tab A8\\n          ,\"}\n"
     ]
    }
   ],
   "source": [
    "group = {\n",
    "    'metadata': {\n",
    "        'source': url,\n",
    "    },\n",
    "    'tag': '',\n",
    "    'page_content': ''\n",
    "}\n",
    "\n",
    "txt = []\n",
    "\n",
    "for element in partition:\n",
    "    if 'unstructured.documents.html.HTMLText' in str(type(element)):\n",
    "        group['tag'] = \"Item's list\"\n",
    "        group['page_content'] += '| '+element.text\n",
    "\n",
    "if group['page_content']:\n",
    "    txt.append(group)\n",
    "for group in txt[:]:\n",
    "    print(group)"
   ]
  }
 ],
 "metadata": {
  "kernelspec": {
   "display_name": "grpsrVenv",
   "language": "python",
   "name": "python3"
  },
  "language_info": {
   "codemirror_mode": {
    "name": "ipython",
    "version": 3
   },
   "file_extension": ".py",
   "mimetype": "text/x-python",
   "name": "python",
   "nbconvert_exporter": "python",
   "pygments_lexer": "ipython3",
   "version": "3.12.3"
  }
 },
 "nbformat": 4,
 "nbformat_minor": 2
}
