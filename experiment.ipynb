{
 "cells": [
  {
   "cell_type": "code",
   "execution_count": null,
   "metadata": {},
   "outputs": [],
   "source": [
    "import requests\n",
    "\n",
    "# URLs for API and e-commerce website\n",
    "api_url = \"http://127.0.0.1:8000/process_html\"\n",
    "target_url = \"https://hamrobazaar.com/\"\n",
    "\n",
    "data = {\"url\": target_url}\n",
    "\n",
    "# Sending POST request\n",
    "response = requests.post(api_url, json=data)\n",
    "\n",
    "# Checking for API response\n",
    "if response.status_code == 200:\n",
    "    print(response.json())\n",
    "\n",
    "else:\n",
    "    print(f\"Error: API status = {response.status_code}\")"
   ]
  }
 ],
 "metadata": {
  "language_info": {
   "name": "python"
  }
 },
 "nbformat": 4,
 "nbformat_minor": 2
}
